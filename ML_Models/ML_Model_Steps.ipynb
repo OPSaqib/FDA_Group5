{
 "cells": [
  {
   "cell_type": "markdown",
   "id": "f34305a4",
   "metadata": {},
   "source": [
    "## Imports"
   ]
  },
  {
   "cell_type": "code",
   "execution_count": null,
   "id": "8e8f8448",
   "metadata": {},
   "outputs": [
    {
     "name": "stderr",
     "output_type": "stream",
     "text": [
      "c:\\Users\\opsaq\\anaconda3\\lib\\site-packages\\scipy\\__init__.py:146: UserWarning: A NumPy version >=1.16.5 and <1.23.0 is required for this version of SciPy (detected version 1.24.4\n",
      "  warnings.warn(f\"A NumPy version >={np_minversion} and <{np_maxversion}\"\n"
     ]
    }
   ],
   "source": [
    "import torch\n",
    "import torch.nn as nn\n",
    "import pandas as pd\n",
    "import numpy as np\n",
    "from sklearn.preprocessing import MinMaxScaler\n",
    "import matplotlib.pyplot as plt"
   ]
  },
  {
   "cell_type": "markdown",
   "id": "89e76141",
   "metadata": {},
   "source": [
    "## Model For Steps"
   ]
  },
  {
   "cell_type": "code",
   "execution_count": null,
   "id": "3bccdf78",
   "metadata": {},
   "outputs": [],
   "source": [
    "# Prepare the data\n",
    "\n",
    "def prepare_data(df):\n",
    "    \n",
    "    # Extract input and output columns\n",
    "    input_cols = ['daily_step_count', 'distance_covered']\n",
    "    output_cols = ['tempmax', 'tempmin', 'solarradiation', 'uvindex']\n",
    "    \n",
    "    # Convert to arrays\n",
    "    X = df[input_cols].values\n",
    "    y = df[output_cols].values\n",
    "    \n",
    "    # Normalize the data\n",
    "    scaler_X = MinMaxScaler()\n",
    "    scaler_y = MinMaxScaler()\n",
    "    X_normalized = scaler_X.fit_transform(X)\n",
    "    y_normalized = scaler_y.fit_transform(y)\n",
    "    \n",
    "    # Convert to PyTorch tensors\n",
    "    X_tensor = torch.FloatTensor(X_normalized)\n",
    "    y_tensor = torch.FloatTensor(y_normalized)\n",
    "    \n",
    "    return X_tensor, y_tensor, scaler_X, scaler_y"
   ]
  },
  {
   "cell_type": "code",
   "execution_count": null,
   "id": "c7d5da8f",
   "metadata": {},
   "outputs": [],
   "source": [
    "# Main Neural Network\n",
    "\n",
    "class WeatherPredictor(nn.Module):\n",
    "    def __init__(self, input_size=2, hidden_size=64, output_size=4):\n",
    "        super(WeatherPredictor, self).__init__()\n",
    "        self.layer1 = nn.Linear(input_size, 512)\n",
    "        self.layer2 = nn.Linear(512, 256)\n",
    "        self.layer3 = nn.Linear(256, 128)\n",
    "        self.layer4 = nn.Linear(128, 64)\n",
    "        self.layer5 = nn.Linear(64, 32)\n",
    "        self.layer6 = nn.Linear(32, output_size)\n",
    "        self.relu = nn.ReLU()\n",
    "        \n",
    "    def forward(self, x):\n",
    "        x = self.relu(self.layer1(x))\n",
    "        x = self.relu(self.layer2(x))\n",
    "        x = self.relu(self.layer3(x))\n",
    "        x = self.relu(self.layer4(x))\n",
    "        x = self.relu(self.layer5(x))\n",
    "        x = self.layer6(x)\n",
    "        return x"
   ]
  },
  {
   "cell_type": "code",
   "execution_count": null,
   "id": "a70ddbbe",
   "metadata": {},
   "outputs": [],
   "source": [
    "# Train The Model (Main Logic)\n",
    "\n",
    "def train_model(X, y, epochs=10000):\n",
    "    model = WeatherPredictor()\n",
    "    criterion = nn.MSELoss()\n",
    "    optimizer = torch.optim.Adam(model.parameters(), lr=0.001)\n",
    "    \n",
    "    # Track losses\n",
    "    losses = []\n",
    "    \n",
    "    # Training loop\n",
    "    for epoch in range(epochs):\n",
    "        outputs = model(X)\n",
    "        loss = criterion(outputs, y)\n",
    "        \n",
    "        optimizer.zero_grad()\n",
    "        loss.backward()\n",
    "        optimizer.step()\n",
    "        \n",
    "        # Store loss\n",
    "        losses.append(loss.item())\n",
    "        \n",
    "        if (epoch + 1) % 500 == 0:\n",
    "            print(f'Epoch [{epoch+1}/{epochs}], Loss: {loss.item():.4f}')\n",
    "    \n",
    "    torch.save(model.state_dict(), 'weather_predictor_steps.pth')\n",
    "    return model, losses"
   ]
  },
  {
   "cell_type": "code",
   "execution_count": null,
   "id": "bb793818",
   "metadata": {},
   "outputs": [],
   "source": [
    "# Predict Weather Based On Input\n",
    "\n",
    "def predict_weather(daily_step_count, distance_covered, scaler_X, scaler_y, model_path='weather_predictor_steps.pth'):\n",
    "    \n",
    "    # Load the model\n",
    "    model = WeatherPredictor()\n",
    "    model.load_state_dict(torch.load(model_path))\n",
    "    model.eval()\n",
    "    \n",
    "    # Input\n",
    "    input_data = np.array([[daily_step_count, distance_covered]])\n",
    "    input_normalized = scaler_X.transform(input_data)\n",
    "    input_tensor = torch.FloatTensor(input_normalized)\n",
    "    \n",
    "    # Get prediction\n",
    "    with torch.no_grad():\n",
    "        prediction_normalized = model(input_tensor)\n",
    "\n",
    "    prediction = scaler_y.inverse_transform(prediction_normalized.numpy())\n",
    "    \n",
    "    # Return\n",
    "    return {\n",
    "        'tempmax': prediction[0][0],\n",
    "        'tempmin': prediction[0][1],\n",
    "        'solarradiation': prediction[0][2],\n",
    "        'uvindex': prediction[0][3]\n",
    "    }"
   ]
  },
  {
   "cell_type": "code",
   "execution_count": null,
   "id": "1a3b0c20",
   "metadata": {},
   "outputs": [],
   "source": [
    "# Plot Loss vs Epoch Graph To See Training And Avoid Overfitting\n",
    "\n",
    "def plot_loss_vs_epoch(losses, epochs):\n",
    "    plt.figure(figsize=(10, 6))\n",
    "    plt.plot(range(1, epochs + 1), losses, 'b-', label='Training Loss')\n",
    "    plt.title('Training Loss vs Epoch')\n",
    "    plt.xlabel('Epoch')\n",
    "    plt.ylabel('Loss (MSE)')\n",
    "    plt.grid(True)\n",
    "    plt.legend()\n",
    "    plt.yscale('log')\n",
    "    plt.savefig('loss_vs_epoch.png')\n",
    "    plt.show()"
   ]
  },
  {
   "cell_type": "code",
   "execution_count": null,
   "id": "9ec9f4f7",
   "metadata": {},
   "outputs": [
    {
     "name": "stdout",
     "output_type": "stream",
     "text": [
      "Epoch [500/10000], Loss: 0.0346\n",
      "Epoch [1000/10000], Loss: 0.0143\n",
      "Epoch [1500/10000], Loss: 0.0074\n",
      "Epoch [2000/10000], Loss: 0.0039\n",
      "Epoch [2500/10000], Loss: 0.0026\n",
      "Epoch [3000/10000], Loss: 0.0024\n",
      "Epoch [3500/10000], Loss: 0.0011\n",
      "Epoch [4000/10000], Loss: 0.0014\n",
      "Epoch [4500/10000], Loss: 0.0006\n",
      "Epoch [5000/10000], Loss: 0.0010\n",
      "Epoch [5500/10000], Loss: 0.0008\n",
      "Epoch [6000/10000], Loss: 0.0147\n",
      "Epoch [6500/10000], Loss: 0.0008\n",
      "Epoch [7000/10000], Loss: 0.0003\n",
      "Epoch [7500/10000], Loss: 0.0002\n",
      "Epoch [8000/10000], Loss: 0.0002\n",
      "Epoch [8500/10000], Loss: 0.0001\n",
      "Epoch [9000/10000], Loss: 0.0002\n",
      "Epoch [9500/10000], Loss: 0.0001\n",
      "Epoch [10000/10000], Loss: 0.0001\n"
     ]
    },
    {
     "data": {
      "image/png": "[encoded data removed]",
      "text/plain": [
       "<Figure size 720x432 with 1 Axes>"
      ]
     },
     "metadata": {
      "needs_background": "light"
     },
     "output_type": "display_data"
    },
    {
     "name": "stdout",
     "output_type": "stream",
     "text": [
      "\n",
      "Prediction for daily_step_count=4550, distance_covered=4400:\n",
      "tempmax: 23.83\n",
      "tempmin: 0.09\n",
      "solarradiation: 301.30\n",
      "uvindex: 9.89\n"
     ]
    },
    {
     "name": "stderr",
     "output_type": "stream",
     "text": [
      "<ipython-input-5-015267813df9>:5: FutureWarning: You are using `torch.load` with `weights_only=False` (the current default value), which uses the default pickle module implicitly. It is possible to construct malicious pickle data which will execute arbitrary code during unpickling (See https://github.com/pytorch/pytorch/blob/main/SECURITY.md#untrusted-models for more details). In a future release, the default value for `weights_only` will be flipped to `True`. This limits the functions that could be executed during unpickling. Arbitrary objects will no longer be allowed to be loaded via this mode unless they are explicitly allowlisted by the user via `torch.serialization.add_safe_globals`. We recommend you start setting `weights_only=True` for any use case where you don't have full control of the loaded file. Please open an issue on GitHub for any issues related to this experimental feature.\n",
      "  model.load_state_dict(torch.load(model_path))\n"
     ]
    }
   ],
   "source": [
    "# Main Execution\n",
    "\n",
    "if __name__ == \"__main__\":\n",
    "    \n",
    "    # Get data\n",
    "    data = pd.read_csv('step_count_daily_trend_data_merged_incl_weather_daily_users_averaged.csv')\n",
    "    \n",
    "    # Prepare the data\n",
    "    X, y, scaler_X, scaler_y = prepare_data(data)\n",
    "    \n",
    "    # Train the model\n",
    "    epochs = 10000\n",
    "    trained_model, losses = train_model(X, y)\n",
    "\n",
    "    # Plot loss vs epoch\n",
    "    plot_loss_vs_epoch(losses, epochs)\n",
    "    \n",
    "    # Get a prediction for some input\n",
    "    daily_step_count = 4550\n",
    "    distance_covered = 4400\n",
    "    prediction = predict_weather(daily_step_count, distance_covered, scaler_X, scaler_y)\n",
    "    \n",
    "    print(f\"\\nPrediction for daily_step_count={daily_step_count}, distance_covered={distance_covered}:\")\n",
    "    for key, value in prediction.items():\n",
    "        print(f\"{key}: {value:.2f}\")"
   ]
  }
 ],
 "metadata": {
  "kernelspec": {
   "display_name": "base",
   "language": "python",
   "name": "python3"
  },
  "language_info": {
   "codemirror_mode": {
    "name": "ipython",
    "version": 3
   },
   "file_extension": ".py",
   "mimetype": "text/x-python",
   "name": "python",
   "nbconvert_exporter": "python",
   "pygments_lexer": "ipython3",
   "version": "3.8.8"
  }
 },
 "nbformat": 4,
 "nbformat_minor": 5
}
